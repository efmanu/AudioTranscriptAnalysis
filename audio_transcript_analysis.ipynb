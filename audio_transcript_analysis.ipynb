{
 "cells": [
  {
   "cell_type": "markdown",
   "id": "d6b36abe-c4c5-488c-bba9-5214a85b5cbf",
   "metadata": {},
   "source": [
    " # Audio Transcript Analysis"
   ]
  },
  {
   "cell_type": "markdown",
   "id": "7c98debe-42ee-4845-8861-f122dc3c2e71",
   "metadata": {},
   "source": [
    "## Install Necessary Packages"
   ]
  },
  {
   "cell_type": "code",
   "execution_count": 15,
   "id": "70f29e1d-8ab0-4c95-ae2c-4665926824b6",
   "metadata": {},
   "outputs": [
    {
     "name": "stdout",
     "output_type": "stream",
     "text": [
      "\u001b[33mWARNING: You are using pip version 21.3.1; however, version 24.3.1 is available.\n",
      "You should consider upgrading via the '/Users/shilpakjose/Desktop/manu/OpenSource/AudioTranscriptAnalysis/venv/bin/python -m pip install --upgrade pip' command.\u001b[0m\n"
     ]
    }
   ],
   "source": [
    "!pip install --quiet jiwer levenshtein torch transformers scikit-learn"
   ]
  },
  {
   "cell_type": "markdown",
   "id": "c5f7ba65-68cc-4da2-8d5d-751b1b2c8dbd",
   "metadata": {},
   "source": [
    "## Import Necessary Packages"
   ]
  },
  {
   "cell_type": "code",
   "execution_count": 39,
   "id": "7df5222f-56fc-4238-ac0e-875af3128b20",
   "metadata": {},
   "outputs": [],
   "source": [
    "from transformers import BertTokenizer, BertModel\n",
    "import torch\n",
    "from sklearn.metrics.pairwise import cosine_similarity\n",
    "from sklearn.metrics.pairwise import euclidean_distances\n",
    "from sklearn.metrics import jaccard_score\n",
    "import Levenshtein\n",
    "import jiwer"
   ]
  },
  {
   "cell_type": "markdown",
   "id": "0bd1471f-590e-4d5f-a013-be4a33403511",
   "metadata": {},
   "source": [
    "## Set up a helper function to create string vector based on Bert Embedding"
   ]
  },
  {
   "cell_type": "code",
   "execution_count": 24,
   "id": "721f1019-230b-4a3f-acb2-e21f6f42a16b",
   "metadata": {},
   "outputs": [],
   "source": [
    "def get_bert_embedding(sentence, tokenizer, model):\n",
    "    \"\"\"\n",
    "    Generate BERT embeddings for a sentence.\n",
    "    \"\"\"\n",
    "    inputs = tokenizer(sentence, return_tensors=\"pt\", padding=True, truncation=True, max_length=512)\n",
    "    with torch.no_grad():\n",
    "        outputs = model(**inputs)\n",
    "    # Use the CLS token's embedding as the sentence embedding\n",
    "    return  outputs.last_hidden_state[:, 0, :].squeeze().numpy()\n",
    "\n",
    "def generate_binary_vec(cls_emb, threshold=0):\n",
    "    return (cls_emb > threshold).astype(int)\n",
    "\n",
    "    "
   ]
  },
  {
   "cell_type": "markdown",
   "id": "133d89cb-63ae-4954-9cb4-14775e94a91b",
   "metadata": {},
   "source": [
    "## Initialise Model and Tokenizer"
   ]
  },
  {
   "cell_type": "code",
   "execution_count": 26,
   "id": "7403ff04-b42d-4b66-99d3-571085b3beff",
   "metadata": {},
   "outputs": [],
   "source": [
    "# Load pre-trained BERT model and tokenizer\n",
    "tokenizer = BertTokenizer.from_pretrained(\"bert-base-uncased\")\n",
    "model = BertModel.from_pretrained(\"bert-base-uncased\")"
   ]
  },
  {
   "cell_type": "markdown",
   "id": "7fea6fb1-4f2c-487d-8285-2f43eec92ada",
   "metadata": {},
   "source": [
    "## Calculate Cosine Similarity"
   ]
  },
  {
   "cell_type": "code",
   "execution_count": 29,
   "id": "816f948e-f5cc-40f9-92ff-8c1fa94c4145",
   "metadata": {},
   "outputs": [
    {
     "name": "stdout",
     "output_type": "stream",
     "text": [
      "Cosine Similarity: 0.8974617719650269\n"
     ]
    }
   ],
   "source": [
    "# Input strings\n",
    "string1 = \"Artificial intelligence is transforming the world.\"\n",
    "string2 = \"The world is being transformed by artificial intelligence.\"\n",
    "\n",
    "# Generate embeddings\n",
    "embedding1 = get_bert_embedding(string1, tokenizer, model)\n",
    "embedding2 = get_bert_embedding(string2, tokenizer, model)\n",
    "\n",
    "# Calculate JCosine Similarity\n",
    "cos_sim = cosine_similarity([embedding1], [embedding2])\n",
    "print(f\"Cosine Similarity: {cos_sim[0][0]}\")"
   ]
  },
  {
   "cell_type": "markdown",
   "id": "c8a4f0d5-57f2-48fc-bb9e-7d158e123ae4",
   "metadata": {},
   "source": [
    "## Calculate Jaccard Score"
   ]
  },
  {
   "cell_type": "code",
   "execution_count": 30,
   "id": "6e93bf7a-4c91-49b1-baa3-8d6e7c1ff966",
   "metadata": {},
   "outputs": [
    {
     "name": "stdout",
     "output_type": "stream",
     "text": [
      "Jaccard Index: 0.7207207207207207\n"
     ]
    }
   ],
   "source": [
    "# Input strings\n",
    "string1 = \"Artificial intelligence is transforming the world.\"\n",
    "string2 = \"The world is being transformed by artificial intelligence.\"\n",
    "\n",
    "# Generate embeddings\n",
    "embedding1 = get_bert_embedding(string1, tokenizer, model)\n",
    "embedding2 = get_bert_embedding(string2, tokenizer, model)\n",
    "\n",
    "# Calculate Jaccard Index\n",
    "bin_embedding1 = generate_binary_vec(embedding1)\n",
    "bin_embedding2 = generate_binary_vec(embedding2)\n",
    "jaccard = jaccard_score(bin_embedding1, bin_embedding2)\n",
    "print(f\"Jaccard Index: {jaccard}\")"
   ]
  },
  {
   "cell_type": "markdown",
   "id": "a760bcda-3d19-4cbe-9441-329186029884",
   "metadata": {},
   "source": [
    "## Calculate Levenshtein Distance"
   ]
  },
  {
   "cell_type": "code",
   "execution_count": 34,
   "id": "e0da38a3-94f4-47a2-b986-87f7de6735b2",
   "metadata": {},
   "outputs": [
    {
     "name": "stdout",
     "output_type": "stream",
     "text": [
      "Levenshtein Distance: 47\n"
     ]
    }
   ],
   "source": [
    "# Input strings\n",
    "string1 = \"Artificial intelligence is transforming the world.\"\n",
    "string2 = \"The world is being transformed by artificial intelligence.\"\n",
    "\n",
    "# Calculate Levenshtein\n",
    "lev_distance = Levenshtein.distance(string1, string2)\n",
    "print(f\"Levenshtein Distance: {lev_distance}\")"
   ]
  },
  {
   "cell_type": "markdown",
   "id": "a9d493fd-8ad9-4c0b-a55e-7c2a8fbb3f2d",
   "metadata": {},
   "source": [
    "## Calculate Euclidean Distance"
   ]
  },
  {
   "cell_type": "code",
   "execution_count": 37,
   "id": "47df20a0-f46d-4aca-af75-517952a261dd",
   "metadata": {},
   "outputs": [
    {
     "name": "stdout",
     "output_type": "stream",
     "text": [
      "Euclidean Distance: 7.1788649559021\n"
     ]
    }
   ],
   "source": [
    "# Input strings\n",
    "string1 = \"Artificial intelligence is transforming the world.\"\n",
    "string2 = \"The world is being transformed by artificial intelligence.\"\n",
    "\n",
    "# Generate embeddings\n",
    "embedding1 = get_bert_embedding(string1, tokenizer, model)\n",
    "embedding2 = get_bert_embedding(string2, tokenizer, model)\n",
    "\n",
    "# Calculate JCosine Similarity\n",
    "ed = euclidean_distances([embedding1], [embedding2])\n",
    "print(f\"Euclidean Distance: {ed[0][0]}\")"
   ]
  },
  {
   "cell_type": "markdown",
   "id": "82768fd1-2547-403f-bc8e-4e5df0f552ed",
   "metadata": {},
   "source": [
    "## Calculate Word Error Rate"
   ]
  },
  {
   "cell_type": "code",
   "execution_count": 41,
   "id": "4402a3f8-97a3-4f5c-9a03-af3b31dd17f3",
   "metadata": {},
   "outputs": [
    {
     "name": "stdout",
     "output_type": "stream",
     "text": [
      "WER: 1.1666666666666667\n"
     ]
    }
   ],
   "source": [
    "# Input strings\n",
    "string1 = \"Artificial intelligence is transforming the world.\"\n",
    "string2 = \"The world is being transformed by artificial intelligence.\"\n",
    "\n",
    "# Generate embeddings\n",
    "wer_val = jiwer.wer(string1, string2)\n",
    "print(f\"WER: {wer_val}\")"
   ]
  },
  {
   "cell_type": "markdown",
   "id": "f7f70f09-10da-4e46-9a6e-c58c3e688fc7",
   "metadata": {},
   "source": [
    "## Calculate Character Error Rate"
   ]
  },
  {
   "cell_type": "code",
   "execution_count": 42,
   "id": "e8484a64-965e-4b0f-af80-84aac92f4aaa",
   "metadata": {},
   "outputs": [
    {
     "name": "stdout",
     "output_type": "stream",
     "text": [
      "CER: 1.1666666666666667\n"
     ]
    }
   ],
   "source": [
    "# Input strings\n",
    "string1 = \"Artificial intelligence is transforming the world.\"\n",
    "string2 = \"The world is being transformed by artificial intelligence.\"\n",
    "\n",
    "# Generate embeddings\n",
    "cer_val = jiwer.cer(string1, string2)\n",
    "print(f\"CER: {wer_val}\")"
   ]
  }
 ],
 "metadata": {
  "kernelspec": {
   "display_name": "Python 3 (ipykernel)",
   "language": "python",
   "name": "python3"
  },
  "language_info": {
   "codemirror_mode": {
    "name": "ipython",
    "version": 3
   },
   "file_extension": ".py",
   "mimetype": "text/x-python",
   "name": "python",
   "nbconvert_exporter": "python",
   "pygments_lexer": "ipython3",
   "version": "3.11.0"
  }
 },
 "nbformat": 4,
 "nbformat_minor": 5
}
